{
 "cells": [
  {
   "cell_type": "markdown",
   "metadata": {},
   "source": [
    "### Sanzhar_Sengerbayev_SE-2006_HW2"
   ]
  },
  {
   "cell_type": "code",
   "execution_count": 9,
   "metadata": {},
   "outputs": [
    {
     "name": "stdout",
     "output_type": "stream",
     "text": [
      "{'algorithm': 'kNN', 'acc': 0.8125, 'ts': 0.24}\n",
      "{'algorithm': 'Decision Tree', 'acc': 0.8833333333333333, 'ts': 0.3}\n",
      "{'algorithm': 'Random Forest', 'acc': 1.0, 'ts': 0.2}\n"
     ]
    }
   ],
   "source": [
    "import pandas as pd\n",
    "import numpy as np\n",
    "import math\n",
    "from sklearn.metrics import accuracy_score\n",
    "from sklearn.model_selection import train_test_split\n",
    "from sklearn.ensemble import RandomForestClassifier\n",
    "from sklearn.preprocessing import StandardScaler\n",
    "from sklearn.neighbors import KNeighborsClassifier\n",
    "from sklearn.tree import DecisionTreeClassifier\n",
    "\n",
    "dataset = pd.read_csv('drug200.csv')\n",
    "def test(a):\n",
    "    x = dataset.iloc[:, 0:5]\n",
    "    y = dataset.iloc[:, 5]\n",
    "    trainX, testX, trainY, testY = train_test_split(x, y, random_state = 0, test_size = a)\n",
    "    trainX = pd.get_dummies(trainX)\n",
    "    testX = pd.get_dummies(testX)\n",
    "    sc = StandardScaler()\n",
    "    trainX = sc.fit_transform(trainX)\n",
    "    testX = sc.transform(testX)\n",
    "    return trainX, testX, trainY, testY\n",
    "\n",
    "def kNN(a):\n",
    "    trainX, testX, trainY, testY = test(a)\n",
    "    k = int(math.sqrt(len(dataset)))\n",
    "    classifier = KNeighborsClassifier(n_neighbors = k, p = 2, metric = 'euclidean')\n",
    "    classifier.fit(trainX, trainY)\n",
    "    y_pred = classifier.predict(testX)\n",
    "    return accuracy_score(testY, y_pred)\n",
    "\n",
    "def decision_tree(a):\n",
    "    trainX, testX, trainY, testY = test(a)\n",
    "    clf_entropy = DecisionTreeClassifier(criterion = 'entropy', random_state = 0, max_depth = 3, min_samples_leaf = 5)\n",
    "    clf_entropy.fit(trainX, trainY)\n",
    "    y_pred = clf_entropy.predict(testX)\n",
    "    return accuracy_score(y_pred, testY)\n",
    "\n",
    "def random_forest(a):\n",
    "    trainX, testX, trainY, testY = test(a)\n",
    "    clf = RandomForestClassifier(max_leaf_nodes=30, n_jobs=2, random_state=0)\n",
    "    clf.fit(trainX, trainY)\n",
    "    y_pred = clf.predict(testX)\n",
    "    return accuracy_score(y_pred, testY)\n",
    "\n",
    "list = [{'algorithm':\"kNN\",'acc': 0, 'ts': 0},\n",
    "        {'algorithm':\"Decision Tree\",'acc': 0, 'ts': 0},\n",
    "        {'algorithm':\"Random Forest\",'acc': 0, 'ts': 0}]\n",
    "\n",
    "test_size = [.20, .21, .22, .23, .24, .25, .26, .27, .28, .29, .30]\n",
    "\n",
    "for i in test_size:\n",
    "    if list[0]['acc'] < kNN(i):\n",
    "        list[0]['acc'] = kNN(i)\n",
    "        list[0]['ts'] = i\n",
    "    if list[1]['acc'] < decision_tree(i):\n",
    "        list[1]['acc'] = decision_tree(i)\n",
    "        list[1]['ts'] = i\n",
    "    if list[2]['acc'] < random_forest(i):\n",
    "        list[2]['acc'] = random_forest(i)\n",
    "        list[2]['ts'] = i\n",
    "\n",
    "for i in list:\n",
    "    print(i)"
   ]
  },
  {
   "cell_type": "markdown",
   "metadata": {},
   "source": [
    "##### All three algorithms showed different results. A more accurate algorithm for this task is the composition of a set of decision trees, which reduces the problem of retraining and improves accuracy in comparison with a single tree. It was in this task that Random Forest gave a more accurate result with 20%.\n"
   ]
  }
 ],
 "metadata": {
  "kernelspec": {
   "display_name": "Python 3.10.2 64-bit",
   "language": "python",
   "name": "python3"
  },
  "language_info": {
   "codemirror_mode": {
    "name": "ipython",
    "version": 3
   },
   "file_extension": ".py",
   "mimetype": "text/x-python",
   "name": "python",
   "nbconvert_exporter": "python",
   "pygments_lexer": "ipython3",
   "version": "3.10.2"
  },
  "orig_nbformat": 4,
  "vscode": {
   "interpreter": {
    "hash": "26de051ba29f2982a8de78e945f0abaf191376122a1563185a90213a26c5da77"
   }
  }
 },
 "nbformat": 4,
 "nbformat_minor": 2
}
