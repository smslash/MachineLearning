{
 "cells": [
  {
   "cell_type": "markdown",
   "metadata": {},
   "source": [
    "##### Sanzhar Sengerbayev SE-2006 HW4"
   ]
  },
  {
   "cell_type": "code",
   "execution_count": 5,
   "metadata": {},
   "outputs": [
    {
     "name": "stdout",
     "output_type": "stream",
     "text": [
      "Intercept:  [-0.37329704]\n",
      "Coeffs:  [[ 0.00309505 -0.00838207  0.02370165 -0.01374103 -0.006581   -0.33836385\n",
      "  -0.34161656  1.6818781 ]]\n"
     ]
    },
    {
     "data": {
      "text/plain": [
       "0.999999949722701"
      ]
     },
     "execution_count": 5,
     "metadata": {},
     "output_type": "execute_result"
    }
   ],
   "source": [
    "import pandas as pd \n",
    "from sklearn.model_selection import train_test_split\n",
    "from sklearn.linear_model import LinearRegression\n",
    "from sklearn.metrics import r2_score\n",
    "%matplotlib inline\n",
    "\n",
    "data = pd.read_csv(\"Magnum.csv\")\n",
    "months = ['Март','Апрель','Май','Июнь','Июль','Август','Сентябрь','Октябрь']\n",
    "data['Ноябрь'] = (data['Октябрь'] + data['Октябрь'] - data[['Август', 'Сентябрь', 'Октябрь']].mean(axis = 1)).astype(int)\n",
    "x = data[months].to_numpy()\n",
    "y = data['Ноябрь'].to_numpy()\n",
    "y = y.reshape(-1,1)\n",
    "x_train, x_test, y_train, y_test = train_test_split(x, y, test_size = 0.15, random_state = 0)\n",
    "model = LinearRegression().fit(x_train,y_train)\n",
    "y_pred = model.predict(x_test)\n",
    "pd.DataFrame(data={'Predicted value':y_pred.flatten(),'Actual Value':y_test.flatten()})\n",
    "print(\"Intercept: \", model.intercept_)\n",
    "print(\"Coeffs: \", model.coef_)\n",
    "r2_score(y_test,y_pred)"
   ]
  },
  {
   "cell_type": "markdown",
   "metadata": {},
   "source": [
    "##### First, I add the modules I need and their methods. Splitting the data into train and test datasets, linear regression model, sklearn.metrics to calculating the R^2 value. Formula for actual price of the product is: Price(Nov) = Price(Oct) + Price(Oct) - Mean(Price(Aug-Oct)). Than using DataFrame class to compare predicted value with actual. As result calculating the coeffs, intercepts and R^2 which equal to 0.999999949722701"
   ]
  }
 ],
 "metadata": {
  "kernelspec": {
   "display_name": "Python 3.10.2 64-bit",
   "language": "python",
   "name": "python3"
  },
  "language_info": {
   "codemirror_mode": {
    "name": "ipython",
    "version": 3
   },
   "file_extension": ".py",
   "mimetype": "text/x-python",
   "name": "python",
   "nbconvert_exporter": "python",
   "pygments_lexer": "ipython3",
   "version": "3.10.2"
  },
  "orig_nbformat": 4,
  "vscode": {
   "interpreter": {
    "hash": "26de051ba29f2982a8de78e945f0abaf191376122a1563185a90213a26c5da77"
   }
  }
 },
 "nbformat": 4,
 "nbformat_minor": 2
}
